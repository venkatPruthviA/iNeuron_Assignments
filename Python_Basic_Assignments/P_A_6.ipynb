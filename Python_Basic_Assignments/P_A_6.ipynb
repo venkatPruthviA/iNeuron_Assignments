{
 "cells": [
  {
   "cell_type": "markdown",
   "id": "20b20e81-0666-4538-a5bc-1aa87dbbb0ee",
   "metadata": {},
   "source": [
    "## 1.) Write a Python Program to Display Fibonacci Sequence Using Recursion?"
   ]
  },
  {
   "cell_type": "code",
   "execution_count": 8,
   "id": "8ffc8f40-d6b8-4d1c-b0eb-4a4af8b6194b",
   "metadata": {},
   "outputs": [
    {
     "name": "stdin",
     "output_type": "stream",
     "text": [
      "Enter the range of fibonacci series 5\n"
     ]
    },
    {
     "name": "stdout",
     "output_type": "stream",
     "text": [
      "0 1 1 2 3 "
     ]
    }
   ],
   "source": [
    "def fib(n):\n",
    "    if n == 0 or n == 1:\n",
    "        return n\n",
    "    return fib(n-1) + fib(n-2)\n",
    "\n",
    "series = int(input(\"Enter the range of fibonacci series\"))\n",
    "for i in range(series):\n",
    "    print(fib(i), end = \" \")"
   ]
  },
  {
   "cell_type": "markdown",
   "id": "0f91ab40-6423-4348-998b-774de6107611",
   "metadata": {},
   "source": [
    "## 2.) Write a Python Program to Find Factorial of Number Using Recursion?"
   ]
  },
  {
   "cell_type": "code",
   "execution_count": 11,
   "id": "4fc89d4c-dd79-4ce3-8e64-823715cfba98",
   "metadata": {},
   "outputs": [
    {
     "name": "stdin",
     "output_type": "stream",
     "text": [
      "Enter the Number to calculate the factorial 5\n"
     ]
    },
    {
     "name": "stdout",
     "output_type": "stream",
     "text": [
      "The Factorial of 5 is 120\n"
     ]
    }
   ],
   "source": [
    "def fact(n):\n",
    "    if n == 0 or n == 1:\n",
    "        return 1\n",
    "    return n*fact(n-1)\n",
    "number = int(input(\"Enter the Number to calculate the factorial\"))\n",
    "print(\"The Factorial of\", number, \"is\", fact(number))"
   ]
  },
  {
   "cell_type": "markdown",
   "id": "0595157c-e0ab-4a16-9d35-32af981c5520",
   "metadata": {},
   "source": [
    "## 3.) Write a Python Program to calculate your Body Mass Index?"
   ]
  },
  {
   "cell_type": "code",
   "execution_count": 15,
   "id": "da1b477d-4060-4ed4-8ef1-241fc7abb3b5",
   "metadata": {},
   "outputs": [
    {
     "name": "stdin",
     "output_type": "stream",
     "text": [
      "Enter the weight in kgs of the person 75\n",
      "Enter the height in cms of the person 180\n"
     ]
    },
    {
     "name": "stdout",
     "output_type": "stream",
     "text": [
      "The bmi for the 180.0 cms height and 75.0 kgs weight is 41.667 kg/m2\n"
     ]
    }
   ],
   "source": [
    "weight = float(input(\"Enter the weight in kgs of the person\"))\n",
    "height = float(input(\"Enter the height in cms of the person\"))\n",
    "\n",
    "bmi = round(weight / (height/100), 3)\n",
    "print(\"The bmi for the\", height, \"cms height and\", weight, \"kgs weight is\", bmi, \"kg/m2\")"
   ]
  },
  {
   "cell_type": "markdown",
   "id": "2217b546-37a0-4f68-85f5-d49ba5cce6a3",
   "metadata": {},
   "source": [
    "## 4.) Write a Python Program to calculate the natural logarithm of any number?"
   ]
  },
  {
   "cell_type": "code",
   "execution_count": 18,
   "id": "b972f79f-e2ce-483a-8118-f0650bd5d4ce",
   "metadata": {},
   "outputs": [
    {
     "name": "stdin",
     "output_type": "stream",
     "text": [
      "Enter the number to calculate the natural log 10\n"
     ]
    },
    {
     "name": "stdout",
     "output_type": "stream",
     "text": [
      "The natural log of 10.0 is: 2.302585092994046\n"
     ]
    }
   ],
   "source": [
    "import math\n",
    "natural_log = float(input(\"Enter the number to calculate the natural log\"))\n",
    "\n",
    "print(\"The natural log of\", natural_log, \"is:\", math.log(natural_log))"
   ]
  },
  {
   "cell_type": "markdown",
   "id": "df7133c1-31c3-44ff-8f31-0573bd36ac14",
   "metadata": {},
   "source": [
    "## 5.) Write a Python Program for cube sum of first n natural numbers?"
   ]
  },
  {
   "cell_type": "code",
   "execution_count": 24,
   "id": "95c85e19-e246-4189-9a47-6f58efc9774f",
   "metadata": {},
   "outputs": [
    {
     "name": "stdin",
     "output_type": "stream",
     "text": [
      "Enter the number range to calculate the cube sum of first n natural numbers 10\n"
     ]
    },
    {
     "name": "stdout",
     "output_type": "stream",
     "text": [
      "The cube sum of first 10 natural numbers is 3025\n"
     ]
    }
   ],
   "source": [
    "def cube_sum(n):\n",
    "    return (n*(n+1)/2)*(n*(n+1)/2)\n",
    "number = int(input(\"Enter the number range to calculate the cube sum of first n natural numbers\"))\n",
    "print(\"The cube sum of first\", number, \"natural numbers is\", int(cube_sum(number)))"
   ]
  }
 ],
 "metadata": {
  "kernelspec": {
   "display_name": "Python 3 (ipykernel)",
   "language": "python",
   "name": "python3"
  },
  "language_info": {
   "codemirror_mode": {
    "name": "ipython",
    "version": 3
   },
   "file_extension": ".py",
   "mimetype": "text/x-python",
   "name": "python",
   "nbconvert_exporter": "python",
   "pygments_lexer": "ipython3",
   "version": "3.10.6"
  }
 },
 "nbformat": 4,
 "nbformat_minor": 5
}
