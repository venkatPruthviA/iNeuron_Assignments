{
 "cells": [
  {
   "cell_type": "markdown",
   "id": "99e9a92f-0123-47e3-9892-b65791bb4640",
   "metadata": {},
   "source": [
    "## 1. Write a Python program to print \"Hello Python\"?"
   ]
  },
  {
   "cell_type": "code",
   "execution_count": 1,
   "id": "25911112-ae1f-4a12-87c0-c3b91f9ea2e1",
   "metadata": {},
   "outputs": [
    {
     "name": "stdout",
     "output_type": "stream",
     "text": [
      "Hello Python\n"
     ]
    }
   ],
   "source": [
    "print(\"Hello Python\")"
   ]
  },
  {
   "cell_type": "markdown",
   "id": "aa1e3d6b-6f35-4078-a0ac-affd1498050c",
   "metadata": {},
   "source": [
    "## 2. Write a Python program to do arithmetical operations addition and division.?"
   ]
  },
  {
   "cell_type": "code",
   "execution_count": 3,
   "id": "0039cf3f-a45d-4da8-822a-3dad4e85078d",
   "metadata": {},
   "outputs": [
    {
     "name": "stdout",
     "output_type": "stream",
     "text": [
      "Addition of a and b is 30.5 and a divided by is 0.525\n"
     ]
    }
   ],
   "source": [
    "a = 10.5\n",
    "b = 20\n",
    "add = a+b\n",
    "div = a/b\n",
    "print(\"Addition of a and b is\", add, \"and a divided by is\", div)"
   ]
  },
  {
   "cell_type": "markdown",
   "id": "262696b0-55ac-4705-aa88-3fb53c368093",
   "metadata": {},
   "source": [
    "## 3. Write a Python program to find the area of a triangle?"
   ]
  },
  {
   "cell_type": "code",
   "execution_count": 5,
   "id": "869ed107-b974-474f-b51c-873a55f9baa2",
   "metadata": {},
   "outputs": [
    {
     "name": "stdin",
     "output_type": "stream",
     "text": [
      "Enter the breadth of the traingle 20.5\n",
      "Enter the height of the traingle 10.5\n"
     ]
    },
    {
     "name": "stdout",
     "output_type": "stream",
     "text": [
      "Area of the triangle is 107.62\n"
     ]
    }
   ],
   "source": [
    "breadth = float(input(\"Enter the breadth of the traingle\"))\n",
    "height = float(input(\"Enter the height of the traingle\"))\n",
    "\n",
    "area = round(0.5*breadth*height, 2)\n",
    "\n",
    "print(\"Area of the triangle is\", area)"
   ]
  },
  {
   "cell_type": "markdown",
   "id": "5fae8b79-963f-4113-8f8c-d6534d0fc4d5",
   "metadata": {},
   "source": [
    "## 4. Write a Python program to swap two variables?"
   ]
  },
  {
   "cell_type": "code",
   "execution_count": 7,
   "id": "1fa1f42d-f7fc-4d56-9fd7-c227883220aa",
   "metadata": {},
   "outputs": [
    {
     "name": "stdin",
     "output_type": "stream",
     "text": [
      "Enter the first number 5\n",
      "Enter the second number 6\n"
     ]
    },
    {
     "name": "stdout",
     "output_type": "stream",
     "text": [
      "Before swapping, a = 5 b = 6\n",
      "After swapping, a = 6 b = 5\n"
     ]
    }
   ],
   "source": [
    "a = int(input(\"Enter the first number\"))\n",
    "b = int(input(\"Enter the second number\"))\n",
    "\n",
    "print(\"Before swapping, a =\", a, \"b =\", b)\n",
    "\n",
    "a, b = b, a\n",
    "\n",
    "print(\"After swapping, a =\", a, \"b =\", b)"
   ]
  },
  {
   "cell_type": "markdown",
   "id": "4a6e155a-0b01-4812-a798-167d8997c245",
   "metadata": {},
   "source": [
    "## 5. Write a Python program to generate a random number?"
   ]
  },
  {
   "cell_type": "code",
   "execution_count": 29,
   "id": "c6e2920b-f9c5-43d6-aa1b-38aa991497e8",
   "metadata": {},
   "outputs": [
    {
     "name": "stdout",
     "output_type": "stream",
     "text": [
      "Random Number generated is 98\n"
     ]
    }
   ],
   "source": [
    "import random as rd\n",
    "print(\"Random Number generated is\", rd.randint(50, 100))"
   ]
  }
 ],
 "metadata": {
  "kernelspec": {
   "display_name": "Python 3 (ipykernel)",
   "language": "python",
   "name": "python3"
  },
  "language_info": {
   "codemirror_mode": {
    "name": "ipython",
    "version": 3
   },
   "file_extension": ".py",
   "mimetype": "text/x-python",
   "name": "python",
   "nbconvert_exporter": "python",
   "pygments_lexer": "ipython3",
   "version": "3.10.6"
  }
 },
 "nbformat": 4,
 "nbformat_minor": 5
}
