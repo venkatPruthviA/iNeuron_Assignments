{
 "cells": [
  {
   "cell_type": "markdown",
   "id": "2d84c89e-7a5f-40e4-90db-016dac89abb6",
   "metadata": {},
   "source": [
    "# Question 1"
   ]
  },
  {
   "cell_type": "markdown",
   "id": "a8272b8f-3c46-45f5-9d95-23276187c9ed",
   "metadata": {},
   "source": [
    "+ * is an Expression\n",
    "+ 'hello' is a Value\n",
    "+ -87.8 is a Value\n",
    "+ - is an Expression\n",
    "+ / is an Expression\n",
    "+ + is an Expression\n",
    "+ 6 is a Value"
   ]
  },
  {
   "cell_type": "markdown",
   "id": "33b80dac-f294-4734-97c0-556022082bff",
   "metadata": {},
   "source": [
    "# Question 2"
   ]
  },
  {
   "cell_type": "markdown",
   "id": "535ebedd-d857-44aa-8a50-84dd8278bff0",
   "metadata": {},
   "source": [
    "+ A String a immutable data type which stores the information in a sequence of characters. There are many in built methods available for different string operations like replace(), find(), index(), strip(), split(), etc.\n",
    "+ A Variable is the name given to the address of a memory location in which data is stored. Variables help us identify the values we store in different memeory locations by following the naming convention. \n",
    "    There are certain rules that should be followed while naming a variable. The name of a variable can only contain numbers, alphabets and underscore. Any other special character cannot be used while naming a variable.\n",
    "    Also a varaible should not start with a number. Otherwise it is considered invalid."
   ]
  },
  {
   "cell_type": "markdown",
   "id": "42c64da4-198e-4b6a-8b20-2f380ad64082",
   "metadata": {},
   "source": [
    "# Question 3"
   ]
  },
  {
   "cell_type": "markdown",
   "id": "72565a6e-ff47-43d5-bf35-adc24819e0cf",
   "metadata": {},
   "source": [
    "Three Data types in python are int, float, complex numbers.\n",
    "\n",
    "+ int represents Integers. It is used to represent whole numbers which can be anywhere between negative, zero, and positive. Examples of integers are 10, 5, 3, 23, etc.\n",
    "\n",
    "+ float represents floating point numbers. It is used to represent continous valueh. Examples of float are 2.1, 3.55, 4.897, 10.0, etc.\n",
    "\n",
    "+ complex represents complex numbers. A complex number contains a real and imaginary part. Examples of complex numbers are 4+3J, 2+1j, 3+7J, etc. "
   ]
  },
  {
   "cell_type": "markdown",
   "id": "46db2b81-c18d-449d-9e32-330716475c39",
   "metadata": {},
   "source": [
    "# Question 4"
   ]
  },
  {
   "cell_type": "markdown",
   "id": "4aba3782-d9a7-4662-bdb3-c17df50f9f7e",
   "metadata": {},
   "source": [
    "+ Expression can be a combination of numbers, charaters, operators and special symbols which evaluate to produce a result.\n",
    "+ There are different types of expressions like Arithmatic expressions which gives the output in numbers, Boolean expressions which evaluates to True or False.\n",
    "+ Every expression works on the order of precedence of the operators used in that expression to evaluate it."
   ]
  },
  {
   "cell_type": "markdown",
   "id": "33e84258-8fc0-41db-8c7a-ed6f60ca09cf",
   "metadata": {},
   "source": [
    "# Question 5"
   ]
  },
  {
   "cell_type": "markdown",
   "id": "8ad74378-b591-421a-a272-d367866b9e4d",
   "metadata": {},
   "source": [
    "### spam = 10 \n",
    "+ It is a statement as it is only assigning a value 10 to the variable name spam. \n",
    "+ It is not evaluating anything and cannot be considered an expression. \n",
    "\n",
    "### Expressions\n",
    "+ The above spam = 10 cannot be considered an expression.\n",
    "+ But if we modify the above statement to spam = 10 + a, where a is another variable holding a value. Then we can consider it as an expression.\n",
    "+ The evaluation here is 10 + a which produces a result that gets stored in spam"
   ]
  },
  {
   "cell_type": "markdown",
   "id": "50545600-c424-42b7-856c-e91936f05ff9",
   "metadata": {},
   "source": [
    "# Question 6"
   ]
  },
  {
   "cell_type": "code",
   "execution_count": 4,
   "id": "5308ddd3-f7df-4219-bdf7-2b2cc69e2472",
   "metadata": {},
   "outputs": [
    {
     "name": "stdout",
     "output_type": "stream",
     "text": [
      "22\n"
     ]
    }
   ],
   "source": [
    "bacon = 22\n",
    "bacon + 1\n",
    "print(bacon) # It contains value 22"
   ]
  },
  {
   "cell_type": "markdown",
   "id": "becb5210-fe35-42a2-bcb9-29b9b04b8d1b",
   "metadata": {},
   "source": [
    "# Question 7"
   ]
  },
  {
   "cell_type": "code",
   "execution_count": 10,
   "id": "37e7875a-3256-40cc-b171-bc68b82dd3b0",
   "metadata": {},
   "outputs": [
    {
     "name": "stdout",
     "output_type": "stream",
     "text": [
      "spamspamspam\n",
      "spamspamspam\n"
     ]
    }
   ],
   "source": [
    "print('spam' + 'spamspam')\n",
    "print('spam' * 3)\n",
    "# Both of them print's spam three times without a space.\n",
    "# These are two different ways to obtain the result."
   ]
  },
  {
   "cell_type": "markdown",
   "id": "5d5ff493-f20e-42d6-a095-79eb3edaaa5f",
   "metadata": {},
   "source": [
    "# Question 8"
   ]
  },
  {
   "cell_type": "markdown",
   "id": "58391f54-5c89-48a4-9ef9-9ad04159f9d5",
   "metadata": {},
   "source": [
    "+ eggs is a valid variable name because it contains only alphabets and no special characters or symbols. Also eggs doesnt start with a number which makes the variable name eggs valid.\n",
    "+ 100 is not a valid variable name as it starts with a number and violates the rules for an indentifier."
   ]
  },
  {
   "cell_type": "markdown",
   "id": "496b7ba4-35d0-4fd9-8d0d-77232ece7939",
   "metadata": {},
   "source": [
    "# Question 9"
   ]
  },
  {
   "cell_type": "markdown",
   "id": "92ebe23d-1a8b-4955-bc86-8c8f2b652c17",
   "metadata": {},
   "source": [
    "+ To get the interger version of a value we need to use the int() function which converts the value into an integer.\n",
    "+ To get the float version of a value we need to use the float() function which converts the value into a floating point.\n",
    "+ To get the string version of a value we need to use the str() function which converts the value into a string."
   ]
  },
  {
   "cell_type": "markdown",
   "id": "85612b30-7870-45de-9121-c4a84abbb970",
   "metadata": {},
   "source": [
    "# Question 10"
   ]
  },
  {
   "cell_type": "markdown",
   "id": "18c8dba4-1f43-4fa8-86e1-271190a8fe12",
   "metadata": {},
   "source": [
    "'I have eaten ' + 99 + ' burritos.'\n",
    "\n",
    "+ The error here is at 99 as it is an integer and python is strongly typed we cannot directly use a combination of string and integers here.\n",
    "+ We need to convert the integer 99 into string with the method str(99) to remove the errror in the code."
   ]
  }
 ],
 "metadata": {
  "kernelspec": {
   "display_name": "Python 3 (ipykernel)",
   "language": "python",
   "name": "python3"
  },
  "language_info": {
   "codemirror_mode": {
    "name": "ipython",
    "version": 3
   },
   "file_extension": ".py",
   "mimetype": "text/x-python",
   "name": "python",
   "nbconvert_exporter": "python",
   "pygments_lexer": "ipython3",
   "version": "3.10.6"
  }
 },
 "nbformat": 4,
 "nbformat_minor": 5
}
