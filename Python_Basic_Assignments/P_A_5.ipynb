{
 "cells": [
  {
   "cell_type": "markdown",
   "id": "cf924ac0-3987-4adb-abbe-f6df6308ffc0",
   "metadata": {},
   "source": [
    "## 1. Write a Python Program to Find LCM?"
   ]
  },
  {
   "cell_type": "code",
   "execution_count": 2,
   "id": "a867ac0e-6aa2-458c-b617-fec0e8dcab19",
   "metadata": {},
   "outputs": [
    {
     "name": "stdout",
     "output_type": "stream",
     "text": [
      "Enter numbers with spaces to find the LCM\n"
     ]
    },
    {
     "name": "stdin",
     "output_type": "stream",
     "text": [
      " 2 5 10\n"
     ]
    },
    {
     "name": "stdout",
     "output_type": "stream",
     "text": [
      "LCM is:  10\n"
     ]
    }
   ],
   "source": [
    "# lcm function to calculate the lcm of N Numbers\n",
    "def lcm(l,n):\n",
    "    for i in l:\n",
    "        if n % i != 0:\n",
    "            return 0\n",
    "    return 1\n",
    "\n",
    "print(\"Enter numbers with spaces to find the LCM\")\n",
    "l = list(map(int, input().split()))    # Converts the user input with spaces into a list of integers.\n",
    "m = max(l)                              # Identifying the maximum number in the list\n",
    "\n",
    "while(1):\n",
    "    if lcm(l, m):\n",
    "        print(\"LCM is: \", m)\n",
    "        break\n",
    "    m = m+1"
   ]
  },
  {
   "cell_type": "markdown",
   "id": "220ee14e-3548-4b14-8c29-f0ac650e57b0",
   "metadata": {},
   "source": [
    "## 2. Write a Python Program to Find HCF?"
   ]
  },
  {
   "cell_type": "code",
   "execution_count": 30,
   "id": "818d9059-f85f-43ed-86b1-b4a4aa4f8e1c",
   "metadata": {},
   "outputs": [
    {
     "name": "stdout",
     "output_type": "stream",
     "text": [
      "Enter numbers to find the GCD\n"
     ]
    },
    {
     "name": "stdin",
     "output_type": "stream",
     "text": [
      " 40 15 25 50 70 10 95\n"
     ]
    },
    {
     "name": "stdout",
     "output_type": "stream",
     "text": [
      "GCD of [40, 15, 25, 50, 70, 10, 95] is 5\n"
     ]
    }
   ],
   "source": [
    "# gcd recursive function to return gcd of a and b\n",
    "def gcd(a, b):\n",
    "    if a == 0:\n",
    "        return b\n",
    "    return gcd(b % a, a)\n",
    "\n",
    "print(\"Enter numbers to find the GCD\")\n",
    "l = list(map(int, input().split()))    # Converts the user input with spaces into a list of integers.\n",
    "highest = 0\n",
    "\n",
    "for i in range(0, len(l)):\n",
    "    factor = gcd(highest, l[i])\n",
    "    highest = factor\n",
    "\n",
    "print(\"GCD of\", l, \"is\", highest)"
   ]
  },
  {
   "cell_type": "markdown",
   "id": "4f90dce0-42b6-4ef0-99bb-e245a8be8376",
   "metadata": {},
   "source": [
    "## 3. Write a Python Program to Convert Decimal to Binary, Octal and Hexadecimal?"
   ]
  },
  {
   "cell_type": "code",
   "execution_count": 29,
   "id": "1124abd9-2205-4b53-938f-595ff2521c56",
   "metadata": {},
   "outputs": [
    {
     "name": "stdin",
     "output_type": "stream",
     "text": [
      "Enter the integer to convert into Binary, Octal and Hexadecimal numbers 20\n"
     ]
    },
    {
     "name": "stdout",
     "output_type": "stream",
     "text": [
      "The decimal number 20 in Binary is 10100 and in Octal is 24 and in Hexadecimal is 14\n"
     ]
    }
   ],
   "source": [
    "dec = int(input(\"Enter the integer to convert into Binary, Octal and Hexadecimal numbers\"))\n",
    "print(\"The decimal number\", dec, \"in Binary is\", int(bin(dec)[2:]), \"and in Octal is\", int(oct(dec)[2:]), \"and in Hexadecimal is\", int(hex(dec)[2:]))"
   ]
  },
  {
   "cell_type": "markdown",
   "id": "eafefa33-df13-48c8-a69b-2bbc91370be7",
   "metadata": {},
   "source": [
    "## 4. Write a Python Program To Find ASCII value of a character?"
   ]
  },
  {
   "cell_type": "code",
   "execution_count": 38,
   "id": "b4d9e896-ba0f-4627-a1f3-dbf797213a62",
   "metadata": {},
   "outputs": [
    {
     "name": "stdin",
     "output_type": "stream",
     "text": [
      "Enter the character to find the ASCII value of it 4\n"
     ]
    },
    {
     "name": "stdout",
     "output_type": "stream",
     "text": [
      "The ASCII value of the character 4 is 52\n"
     ]
    }
   ],
   "source": [
    "ch_ar = input(\"Enter the character to find the ASCII value of it\")\n",
    "print(\"The ASCII value of the character\", ch_ar, \"is\", ord(ch_ar))"
   ]
  },
  {
   "cell_type": "markdown",
   "id": "88afd2fd-63aa-46d5-9fd9-950351b10bf1",
   "metadata": {},
   "source": [
    "## 5. Write a Python Program to Make a Simple Calculator with 4 basic mathematical operations?"
   ]
  },
  {
   "cell_type": "code",
   "execution_count": 56,
   "id": "e129fb9c-322f-49c7-819f-1050eb5fcb35",
   "metadata": {},
   "outputs": [
    {
     "name": "stdin",
     "output_type": "stream",
     "text": [
      "Enter the required symbol for the calculation: +,-, *, /:  /\n"
     ]
    },
    {
     "name": "stdout",
     "output_type": "stream",
     "text": [
      "Enter the values to calculate the result\n",
      "Press Enter after entering all the required values\n"
     ]
    },
    {
     "name": "stdin",
     "output_type": "stream",
     "text": [
      " 20\n",
      " 1.5\n",
      " \n"
     ]
    },
    {
     "name": "stdout",
     "output_type": "stream",
     "text": [
      "13.3333\n"
     ]
    }
   ],
   "source": [
    "def calc(li, n):\n",
    "    \n",
    "    if n == '+':\n",
    "        for i in li:\n",
    "            s+=i\n",
    "        print(s)\n",
    "    if n == '-':\n",
    "        for i in li:\n",
    "            sub = i-sub\n",
    "        print(sub)\n",
    "    if n == '*':\n",
    "        mul = 1\n",
    "        for i in li:\n",
    "            mul*=i\n",
    "        print(mul)\n",
    "    if n == '/':\n",
    "        div = li[0]\n",
    "        for i in li[1:]:\n",
    "            div = div / i\n",
    "        print(round(div, 4))\n",
    "\n",
    "li = []\n",
    "math = input(\"Enter the required symbol for the calculation: +,-, *, /: \")\n",
    "print(\"Enter the values to calculate the result\")\n",
    "print(\"Press Enter after entering all the required values\")\n",
    "i = input()\n",
    "while True:\n",
    "    if i == '':\n",
    "        break\n",
    "    li.append(float(i))\n",
    "    i = input()\n",
    "    \n",
    "calc(li, math)"
   ]
  }
 ],
 "metadata": {
  "kernelspec": {
   "display_name": "Python 3 (ipykernel)",
   "language": "python",
   "name": "python3"
  },
  "language_info": {
   "codemirror_mode": {
    "name": "ipython",
    "version": 3
   },
   "file_extension": ".py",
   "mimetype": "text/x-python",
   "name": "python",
   "nbconvert_exporter": "python",
   "pygments_lexer": "ipython3",
   "version": "3.10.6"
  }
 },
 "nbformat": 4,
 "nbformat_minor": 5
}
