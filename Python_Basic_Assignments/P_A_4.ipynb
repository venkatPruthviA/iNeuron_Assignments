{
 "cells": [
  {
   "cell_type": "markdown",
   "id": "7ed31d4b-f40d-4b81-846f-66534e448a0f",
   "metadata": {},
   "source": [
    "## 1. Write a Python Program to Find the Factorial of a Number?"
   ]
  },
  {
   "cell_type": "code",
   "execution_count": 31,
   "id": "7c8a2a36-2690-419e-8fff-1556a182a2a8",
   "metadata": {},
   "outputs": [
    {
     "name": "stdin",
     "output_type": "stream",
     "text": [
      "Enter a number to find the factorial of it 6\n"
     ]
    },
    {
     "name": "stdout",
     "output_type": "stream",
     "text": [
      "The factorial of 6 is: 720\n"
     ]
    }
   ],
   "source": [
    "def fact(n):\n",
    "    if n == 1 or n == 0:\n",
    "        return 1\n",
    "    elif n > 1:\n",
    "        return n*fact(n-1)\n",
    "    else:\n",
    "        print(\"Wrong Input, Positive Numbers only\")\n",
    "        return \"Cannot be calculated for the provided input\"\n",
    "\n",
    "try:\n",
    "    n = int(input(\"Enter a number to find the factorial of it\"))\n",
    "    print(\"The factorial of {} is: {}\".format(n, fact(n)))\n",
    "except:\n",
    "    print(\"Invalid Input\")"
   ]
  },
  {
   "cell_type": "markdown",
   "id": "3c3c6ccb-d0ac-460a-82e7-24d60a8c0c11",
   "metadata": {},
   "source": [
    "## 2. Write a Python Program to Display the multiplication Table?"
   ]
  },
  {
   "cell_type": "code",
   "execution_count": 18,
   "id": "1993bf23-5357-4d83-b67a-4c02a5bea255",
   "metadata": {},
   "outputs": [
    {
     "name": "stdin",
     "output_type": "stream",
     "text": [
      "Enter the number for which multiplication table is needed:  6\n",
      "Enter the range for the multiplcation table:  20\n"
     ]
    },
    {
     "name": "stdout",
     "output_type": "stream",
     "text": [
      "\n",
      "Multiplication table for 6 till 20 is: \n",
      "\n",
      "1 x 6 = 6\n",
      "2 x 6 = 12\n",
      "3 x 6 = 18\n",
      "4 x 6 = 24\n",
      "5 x 6 = 30\n",
      "6 x 6 = 36\n",
      "7 x 6 = 42\n",
      "8 x 6 = 48\n",
      "9 x 6 = 54\n",
      "10 x 6 = 60\n",
      "11 x 6 = 66\n",
      "12 x 6 = 72\n",
      "13 x 6 = 78\n",
      "14 x 6 = 84\n",
      "15 x 6 = 90\n",
      "16 x 6 = 96\n",
      "17 x 6 = 102\n",
      "18 x 6 = 108\n",
      "19 x 6 = 114\n",
      "20 x 6 = 120\n"
     ]
    }
   ],
   "source": [
    "def multi(n, till):\n",
    "    print(\"\\nMultiplication table for {} till {} is: \\n\".format(n, till))\n",
    "    for i in range(1, till+1):\n",
    "        print(\"{} x {} = {}\".format(i, n, i*n))\n",
    "\n",
    "try:\n",
    "    n = int(input(\"Enter the number for which multiplication table is needed: \"))\n",
    "    till = int(input(\"Enter the range for the multiplcation table: \"))\n",
    "\n",
    "    multi(n, till)\n",
    "except:\n",
    "    print(\"Invalid Input\")"
   ]
  },
  {
   "cell_type": "markdown",
   "id": "f1721c67-c7db-43e0-b4c8-0df5e0b4c1cf",
   "metadata": {},
   "source": [
    "## 3. Write a Python Program to Print the Fibonacci sequence?"
   ]
  },
  {
   "cell_type": "code",
   "execution_count": 68,
   "id": "0fc7389f-77ad-4359-bda2-36a6a3ef02a4",
   "metadata": {},
   "outputs": [
    {
     "name": "stdin",
     "output_type": "stream",
     "text": [
      "Enter the range for the fibonacci sequence:  6\n"
     ]
    },
    {
     "name": "stdout",
     "output_type": "stream",
     "text": [
      "\n",
      "Fibonocci Series for 6 is:\n",
      "0 1 1 2 3 5 "
     ]
    }
   ],
   "source": [
    "def fib(n):\n",
    "    first, second = 0, 1\n",
    "    \n",
    "    if n == 0 or n == 1:\n",
    "        print(0)\n",
    "    elif n < 0:\n",
    "        print(\"Wrong Input, Enter positive numbers only\")\n",
    "    elif n == 2:\n",
    "        print(first, second)\n",
    "    elif n > 2:\n",
    "        print(first, second, end = \" \")\n",
    "        for i in range(2, n):\n",
    "            fib = first + second\n",
    "            first = second\n",
    "            second = fib\n",
    "            print(fib, end = \" \")\n",
    "        \n",
    "try:\n",
    "    n = int(input(\"Enter the range for the fibonacci sequence: \"))\n",
    "    print(\"\\nFibonocci Series for {} is:\".format(n))\n",
    "    fib(n)\n",
    "except:\n",
    "    print(\"Invalid Input\")"
   ]
  },
  {
   "cell_type": "markdown",
   "id": "25ec377d-4b56-4246-9528-5b32272958e8",
   "metadata": {},
   "source": [
    "## 4. Write a Python Program to Check Armstrong Number?"
   ]
  },
  {
   "cell_type": "code",
   "execution_count": 81,
   "id": "78ceaa8e-0cb7-4e22-94c7-79d8bea856e0",
   "metadata": {},
   "outputs": [
    {
     "name": "stdin",
     "output_type": "stream",
     "text": [
      "Enter the number to check if it is Armstrong number or not:  158\n"
     ]
    },
    {
     "name": "stdout",
     "output_type": "stream",
     "text": [
      "It's not an Armstrong Number.\n"
     ]
    }
   ],
   "source": [
    "def arms(n):\n",
    "    total = 0\n",
    "    n_1 = n\n",
    "    while n > 0:\n",
    "        num = n % 10\n",
    "        total+=num**3\n",
    "        n = int(n / 10)\n",
    "    if total == n_1:\n",
    "        print(\"It's an Armstrong Number.\")\n",
    "    else:\n",
    "        print(\"It's not an Armstrong Number.\")\n",
    "        \n",
    "try:\n",
    "    n = int(input(\"Enter the number to check if it is Armstrong number or not: \"))\n",
    "    arms(n)\n",
    "except:\n",
    "    print(\"Invalid Input\")"
   ]
  },
  {
   "cell_type": "markdown",
   "id": "c1a0e8df-04ff-4401-ac21-6483a25d6863",
   "metadata": {},
   "source": [
    "## 5. Write a Python Program to Find Armstrong Number in an Interval?"
   ]
  },
  {
   "cell_type": "code",
   "execution_count": 96,
   "id": "87a7f0b8-db8a-4462-a35a-52794679670f",
   "metadata": {},
   "outputs": [
    {
     "name": "stdout",
     "output_type": "stream",
     "text": [
      "To find the Armstrong numbers in the given interval\n"
     ]
    },
    {
     "name": "stdin",
     "output_type": "stream",
     "text": [
      "Enter the starting interval for search:  1000\n",
      "Enter the ending interval for search:  100000\n"
     ]
    },
    {
     "name": "stdout",
     "output_type": "stream",
     "text": [
      "Armstrong numbers in the interval 1000 - 100000 are:\n",
      "1634\n",
      "8208\n",
      "9474\n",
      "54748\n",
      "92727\n",
      "93084\n"
     ]
    }
   ],
   "source": [
    "def arms(start, ending):\n",
    "    print(\"Armstrong numbers in the interval {} - {} are:\".format(start, ending))\n",
    "    for i in range(start, ending+1):\n",
    "        total = count = 0\n",
    "        n_1 = i\n",
    "        while i > 0:\n",
    "            i = int(i / 10)\n",
    "            count+=1\n",
    "            \n",
    "        i = n_1\n",
    "        while i > 0:\n",
    "            num = i % 10\n",
    "            total+=num**count\n",
    "            i = int(i / 10)\n",
    "        if total == n_1: \n",
    "            print(n_1)\n",
    "        \n",
    "        \n",
    "try:\n",
    "    print(\"To find the Armstrong numbers in the given interval\")\n",
    "    start = int(input(\"Enter the starting interval for search: \"))\n",
    "    ending = int(input(\"Enter the ending interval for search: \"))\n",
    "    \n",
    "    arms(start, ending) \n",
    "    \n",
    "except:\n",
    "    print(\"Invalid Input\")"
   ]
  },
  {
   "cell_type": "markdown",
   "id": "fc403515-ae19-479e-9c4a-302612c53c6c",
   "metadata": {},
   "source": [
    "## 6. Write a Python Program to Find the Sum of Natural Numbers?"
   ]
  },
  {
   "cell_type": "code",
   "execution_count": 100,
   "id": "f2e75868-cb26-472d-8824-596bcf8b9708",
   "metadata": {},
   "outputs": [
    {
     "name": "stdin",
     "output_type": "stream",
     "text": [
      "Enter a number to find the Sum of Natural Numbers 5\n"
     ]
    },
    {
     "name": "stdout",
     "output_type": "stream",
     "text": [
      "The Sum of First 5 Natural Numbers is: 15\n"
     ]
    }
   ],
   "source": [
    "def natural_num(n):\n",
    "    total = 0\n",
    "    for i in range(1, n+1):\n",
    "        total+=i\n",
    "    return total\n",
    "\n",
    "try:\n",
    "    n = int(input(\"Enter a number to find the Sum of Natural Numbers\"))\n",
    "    print(\"The Sum of First {} Natural Numbers is: {}\".format(n, natural_num(n)))\n",
    "\n",
    "except:\n",
    "    print(\"Invalid Input\")"
   ]
  }
 ],
 "metadata": {
  "kernelspec": {
   "display_name": "Python 3 (ipykernel)",
   "language": "python",
   "name": "python3"
  },
  "language_info": {
   "codemirror_mode": {
    "name": "ipython",
    "version": 3
   },
   "file_extension": ".py",
   "mimetype": "text/x-python",
   "name": "python",
   "nbconvert_exporter": "python",
   "pygments_lexer": "ipython3",
   "version": "3.10.6"
  }
 },
 "nbformat": 4,
 "nbformat_minor": 5
}
