{
 "cells": [
  {
   "cell_type": "markdown",
   "id": "15a2080b-13ab-4bb7-94ed-b924f914e5c4",
   "metadata": {},
   "source": [
    "# 1.) Write a Python program to find sum of elements in list?"
   ]
  },
  {
   "cell_type": "code",
   "execution_count": 4,
   "id": "fc813651-e64f-422e-afd6-d4db56205b33",
   "metadata": {},
   "outputs": [
    {
     "name": "stdin",
     "output_type": "stream",
     "text": [
      "Enter the count of elements: n:  5\n"
     ]
    },
    {
     "name": "stdout",
     "output_type": "stream",
     "text": [
      "Enter the element 1 : \n"
     ]
    },
    {
     "name": "stdin",
     "output_type": "stream",
     "text": [
      " 2\n"
     ]
    },
    {
     "name": "stdout",
     "output_type": "stream",
     "text": [
      "Enter the element 2 : \n"
     ]
    },
    {
     "name": "stdin",
     "output_type": "stream",
     "text": [
      " 4\n"
     ]
    },
    {
     "name": "stdout",
     "output_type": "stream",
     "text": [
      "Enter the element 3 : \n"
     ]
    },
    {
     "name": "stdin",
     "output_type": "stream",
     "text": [
      " 6\n"
     ]
    },
    {
     "name": "stdout",
     "output_type": "stream",
     "text": [
      "Enter the element 4 : \n"
     ]
    },
    {
     "name": "stdin",
     "output_type": "stream",
     "text": [
      " 8\n"
     ]
    },
    {
     "name": "stdout",
     "output_type": "stream",
     "text": [
      "Enter the element 5 : \n"
     ]
    },
    {
     "name": "stdin",
     "output_type": "stream",
     "text": [
      " 10\n"
     ]
    },
    {
     "name": "stdout",
     "output_type": "stream",
     "text": [
      "The sum of 5 elements in the list is: 30\n"
     ]
    }
   ],
   "source": [
    "n = int(input(\"Enter the count of elements: n: \"))\n",
    "li = []\n",
    "sum_ele = 0\n",
    "for i in range(n):\n",
    "    print(\"Enter the element\", i+1, \": \")\n",
    "    li.append(int(input()))\n",
    "    sum_ele+=li[i]\n",
    "print(\"The sum of {} elements in the list is: {}\".format(n, sum_ele))"
   ]
  },
  {
   "cell_type": "markdown",
   "id": "cfbdd0fb-e6e9-43a9-a4b0-426ad71c951a",
   "metadata": {},
   "source": [
    "# 2. Write a Python program to Multiply all numbers in the list?"
   ]
  },
  {
   "cell_type": "code",
   "execution_count": 5,
   "id": "dcfab2e6-11d8-4e6d-8d24-20870706c65d",
   "metadata": {},
   "outputs": [
    {
     "name": "stdin",
     "output_type": "stream",
     "text": [
      "Enter the count of elements: n:  5\n"
     ]
    },
    {
     "name": "stdout",
     "output_type": "stream",
     "text": [
      "Enter the element 1 : \n"
     ]
    },
    {
     "name": "stdin",
     "output_type": "stream",
     "text": [
      " 2\n"
     ]
    },
    {
     "name": "stdout",
     "output_type": "stream",
     "text": [
      "Enter the element 2 : \n"
     ]
    },
    {
     "name": "stdin",
     "output_type": "stream",
     "text": [
      " 1\n"
     ]
    },
    {
     "name": "stdout",
     "output_type": "stream",
     "text": [
      "Enter the element 3 : \n"
     ]
    },
    {
     "name": "stdin",
     "output_type": "stream",
     "text": [
      " 4\n"
     ]
    },
    {
     "name": "stdout",
     "output_type": "stream",
     "text": [
      "Enter the element 4 : \n"
     ]
    },
    {
     "name": "stdin",
     "output_type": "stream",
     "text": [
      " 3\n"
     ]
    },
    {
     "name": "stdout",
     "output_type": "stream",
     "text": [
      "Enter the element 5 : \n"
     ]
    },
    {
     "name": "stdin",
     "output_type": "stream",
     "text": [
      " 5\n"
     ]
    },
    {
     "name": "stdout",
     "output_type": "stream",
     "text": [
      "The product of 5 elements in the list is: 120\n"
     ]
    }
   ],
   "source": [
    "n = int(input(\"Enter the count of elements: n: \"))\n",
    "li = []\n",
    "mul_ele = 1\n",
    "for i in range(n):\n",
    "    print(\"Enter the element\", i+1, \": \")\n",
    "    li.append(int(input()))\n",
    "    mul_ele*=li[i]\n",
    "print(\"The product of {} elements in the list is: {}\".format(n, mul_ele))"
   ]
  },
  {
   "cell_type": "markdown",
   "id": "f1a038f8-670d-466a-8d33-b8043c820978",
   "metadata": {},
   "source": [
    "# 3. Write a Python program to find smallest number in a list?"
   ]
  },
  {
   "cell_type": "code",
   "execution_count": 26,
   "id": "3a8e58ca-14d9-4237-911b-3871ef5c3cbf",
   "metadata": {},
   "outputs": [
    {
     "name": "stdin",
     "output_type": "stream",
     "text": [
      "Enter the count of elements: n:  5\n"
     ]
    },
    {
     "name": "stdout",
     "output_type": "stream",
     "text": [
      "Enter the element 1 : \n"
     ]
    },
    {
     "name": "stdin",
     "output_type": "stream",
     "text": [
      " 1243\n"
     ]
    },
    {
     "name": "stdout",
     "output_type": "stream",
     "text": [
      "Enter the element 2 : \n"
     ]
    },
    {
     "name": "stdin",
     "output_type": "stream",
     "text": [
      " 6536\n"
     ]
    },
    {
     "name": "stdout",
     "output_type": "stream",
     "text": [
      "Enter the element 3 : \n"
     ]
    },
    {
     "name": "stdin",
     "output_type": "stream",
     "text": [
      " 1232\n"
     ]
    },
    {
     "name": "stdout",
     "output_type": "stream",
     "text": [
      "Enter the element 4 : \n"
     ]
    },
    {
     "name": "stdin",
     "output_type": "stream",
     "text": [
      " 2354\n"
     ]
    },
    {
     "name": "stdout",
     "output_type": "stream",
     "text": [
      "Enter the element 5 : \n"
     ]
    },
    {
     "name": "stdin",
     "output_type": "stream",
     "text": [
      " 2134\n"
     ]
    },
    {
     "name": "stdout",
     "output_type": "stream",
     "text": [
      "The smallest of 5 elements in the list is: 1232\n"
     ]
    }
   ],
   "source": [
    "n = int(input(\"Enter the count of elements: n: \"))\n",
    "li = []\n",
    "small = 0\n",
    "\n",
    "# One way to solve is:\n",
    "\n",
    "for i in range(n):\n",
    "    print(\"Enter the element\", i+1, \": \")\n",
    "    li.append(int(input()))\n",
    "    if i != 0:\n",
    "        if li[i] < small:\n",
    "            small = li[i]\n",
    "    elif i == 0:\n",
    "        small = li[0]\n",
    "\n",
    "# Another way to solve is: small = min(li)\n",
    "    \n",
    "print(\"The smallest of {} elements in the list is: {}\".format(n, small))"
   ]
  },
  {
   "cell_type": "markdown",
   "id": "255d325e-59ca-4192-9461-be8c24ee5b63",
   "metadata": {},
   "source": [
    "# 4. Write a Python program to find largest number in a list?"
   ]
  },
  {
   "cell_type": "code",
   "execution_count": 27,
   "id": "c9ae05e2-15e7-4692-9d44-b5640af74c6d",
   "metadata": {},
   "outputs": [
    {
     "name": "stdin",
     "output_type": "stream",
     "text": [
      "Enter the count of elements: n:  5\n"
     ]
    },
    {
     "name": "stdout",
     "output_type": "stream",
     "text": [
      "Enter the element 1 : \n"
     ]
    },
    {
     "name": "stdin",
     "output_type": "stream",
     "text": [
      " 12314235\n"
     ]
    },
    {
     "name": "stdout",
     "output_type": "stream",
     "text": [
      "Enter the element 2 : \n"
     ]
    },
    {
     "name": "stdin",
     "output_type": "stream",
     "text": [
      " 12432542\n"
     ]
    },
    {
     "name": "stdout",
     "output_type": "stream",
     "text": [
      "Enter the element 3 : \n"
     ]
    },
    {
     "name": "stdin",
     "output_type": "stream",
     "text": [
      " 12343554\n"
     ]
    },
    {
     "name": "stdout",
     "output_type": "stream",
     "text": [
      "Enter the element 4 : \n"
     ]
    },
    {
     "name": "stdin",
     "output_type": "stream",
     "text": [
      " 1231541234325\n"
     ]
    },
    {
     "name": "stdout",
     "output_type": "stream",
     "text": [
      "Enter the element 5 : \n"
     ]
    },
    {
     "name": "stdin",
     "output_type": "stream",
     "text": [
      " 354643674274234\n"
     ]
    },
    {
     "name": "stdout",
     "output_type": "stream",
     "text": [
      "The largest of 5 elements in the list is: 354643674274234\n"
     ]
    }
   ],
   "source": [
    "n = int(input(\"Enter the count of elements: n: \"))\n",
    "li = []\n",
    "lar = 0\n",
    "\n",
    "# One way to solve is:\n",
    "\n",
    "for i in range(n):\n",
    "    print(\"Enter the element\", i+1, \": \")\n",
    "    li.append(int(input()))\n",
    "    if i != 0:\n",
    "        if li[i] > lar:\n",
    "            lar = li[i]\n",
    "    elif i == 0:\n",
    "        lar = li[0]\n",
    "\n",
    "# Another way to solve is: small = max(li)\n",
    "    \n",
    "print(\"The largest of {} elements in the list is: {}\".format(n, lar))"
   ]
  },
  {
   "cell_type": "markdown",
   "id": "fa6c2f5b-e3c6-49ce-9978-75266bc51a37",
   "metadata": {},
   "source": [
    "# 5. Write a Python program to find second largest number in a list?"
   ]
  },
  {
   "cell_type": "code",
   "execution_count": 29,
   "id": "364867f2-7259-4e9a-810f-38c36116d8e9",
   "metadata": {},
   "outputs": [
    {
     "name": "stdin",
     "output_type": "stream",
     "text": [
      "Enter the count of elements: n:  5\n"
     ]
    },
    {
     "name": "stdout",
     "output_type": "stream",
     "text": [
      "Enter the element 1 : \n"
     ]
    },
    {
     "name": "stdin",
     "output_type": "stream",
     "text": [
      " 10\n"
     ]
    },
    {
     "name": "stdout",
     "output_type": "stream",
     "text": [
      "Enter the element 2 : \n"
     ]
    },
    {
     "name": "stdin",
     "output_type": "stream",
     "text": [
      " 20\n"
     ]
    },
    {
     "name": "stdout",
     "output_type": "stream",
     "text": [
      "Enter the element 3 : \n"
     ]
    },
    {
     "name": "stdin",
     "output_type": "stream",
     "text": [
      " 30\n"
     ]
    },
    {
     "name": "stdout",
     "output_type": "stream",
     "text": [
      "Enter the element 4 : \n"
     ]
    },
    {
     "name": "stdin",
     "output_type": "stream",
     "text": [
      " 40\n"
     ]
    },
    {
     "name": "stdout",
     "output_type": "stream",
     "text": [
      "Enter the element 5 : \n"
     ]
    },
    {
     "name": "stdin",
     "output_type": "stream",
     "text": [
      " 50\n"
     ]
    },
    {
     "name": "stdout",
     "output_type": "stream",
     "text": [
      "The second largest of 5 elements in the list is: 40\n"
     ]
    }
   ],
   "source": [
    "n = int(input(\"Enter the count of elements: n: \"))\n",
    "li = []\n",
    "lar = 0     # Largest element\n",
    "s_lar = 0   # Second largest element\n",
    "\n",
    "for i in range(n):\n",
    "    print(\"Enter the element\", i+1, \": \")\n",
    "    li.append(int(input()))\n",
    "    if i != 0:\n",
    "        if li[i] > lar:\n",
    "            s_lar = lar\n",
    "            lar = li[i]\n",
    "    elif i == 0:\n",
    "        lar = li[0]\n",
    "        s_lar = li[0]\n",
    "    \n",
    "print(\"The second largest of {} elements in the list is: {}\".format(n, s_lar))"
   ]
  },
  {
   "cell_type": "markdown",
   "id": "7d1f13ba-8cb8-4d11-842d-f627cc178cbb",
   "metadata": {},
   "source": [
    "# 6. Write a Python program to find N largest elements from a list?"
   ]
  },
  {
   "cell_type": "code",
   "execution_count": 55,
   "id": "e02f420a-171b-40c7-b21f-3d125195e667",
   "metadata": {},
   "outputs": [
    {
     "name": "stdin",
     "output_type": "stream",
     "text": [
      "Enter the count of elements: n:  5\n",
      "Enter the count of largest elements required:  3\n"
     ]
    },
    {
     "name": "stdout",
     "output_type": "stream",
     "text": [
      "Enter the element 1 : \n"
     ]
    },
    {
     "name": "stdin",
     "output_type": "stream",
     "text": [
      " 10\n"
     ]
    },
    {
     "name": "stdout",
     "output_type": "stream",
     "text": [
      "Enter the element 2 : \n"
     ]
    },
    {
     "name": "stdin",
     "output_type": "stream",
     "text": [
      " 20\n"
     ]
    },
    {
     "name": "stdout",
     "output_type": "stream",
     "text": [
      "Enter the element 3 : \n"
     ]
    },
    {
     "name": "stdin",
     "output_type": "stream",
     "text": [
      " 30\n"
     ]
    },
    {
     "name": "stdout",
     "output_type": "stream",
     "text": [
      "Enter the element 4 : \n"
     ]
    },
    {
     "name": "stdin",
     "output_type": "stream",
     "text": [
      " 40\n"
     ]
    },
    {
     "name": "stdout",
     "output_type": "stream",
     "text": [
      "Enter the element 5 : \n"
     ]
    },
    {
     "name": "stdin",
     "output_type": "stream",
     "text": [
      " 50\n"
     ]
    },
    {
     "name": "stdout",
     "output_type": "stream",
     "text": [
      "The second largest of 5 elements in the list is: [50, 40, 30]\n"
     ]
    }
   ],
   "source": [
    "''' n = int(input(\"Enter the count of elements: n: \"))\n",
    "n_ele = int(input(\"Enter the count of largest elements required: \"))\n",
    "li = []\n",
    "\n",
    "def n_lar(li, n_ele):\n",
    "    n_lar = []\n",
    "    for i in range(n_ele):\n",
    "        lar = 0\n",
    "        for j in li:\n",
    "            if j > lar:\n",
    "                lar = j\n",
    "                  \n",
    "        li.remove(lar)\n",
    "        n_lar.append(lar)\n",
    "        \n",
    "    print(\"The second largest of {} elements in the list is: {}\".format(n, n_lar))\n",
    "\n",
    "for i in range(n):\n",
    "    print(\"Enter the element\", i+1, \": \")\n",
    "    li.append(int(input()))\n",
    "\n",
    "n_lar(li, n_ele)\n",
    "'''"
   ]
  },
  {
   "cell_type": "code",
   "execution_count": 61,
   "id": "956d8c05-f307-47d5-afb0-e6a7b675c82c",
   "metadata": {},
   "outputs": [
    {
     "name": "stdin",
     "output_type": "stream",
     "text": [
      "Enter the count of elements: n:  5\n",
      " 3\n"
     ]
    },
    {
     "name": "stdout",
     "output_type": "stream",
     "text": [
      "Enter the element 1 : \n"
     ]
    },
    {
     "name": "stdin",
     "output_type": "stream",
     "text": [
      " 10\n"
     ]
    },
    {
     "name": "stdout",
     "output_type": "stream",
     "text": [
      "Enter the element 2 : \n"
     ]
    },
    {
     "name": "stdin",
     "output_type": "stream",
     "text": [
      " 20\n"
     ]
    },
    {
     "name": "stdout",
     "output_type": "stream",
     "text": [
      "Enter the element 3 : \n"
     ]
    },
    {
     "name": "stdin",
     "output_type": "stream",
     "text": [
      " 30\n"
     ]
    },
    {
     "name": "stdout",
     "output_type": "stream",
     "text": [
      "Enter the element 4 : \n"
     ]
    },
    {
     "name": "stdin",
     "output_type": "stream",
     "text": [
      " 40\n"
     ]
    },
    {
     "name": "stdout",
     "output_type": "stream",
     "text": [
      "Enter the element 5 : \n"
     ]
    },
    {
     "name": "stdin",
     "output_type": "stream",
     "text": [
      " 50\n"
     ]
    },
    {
     "name": "stdout",
     "output_type": "stream",
     "text": [
      "The second largest of 5 elements in the list is: [30, 40, 50]\n"
     ]
    }
   ],
   "source": [
    "n = int(input(\"Enter the count of elements: n: \"))\n",
    "li = []\n",
    "lar = 0     # Largest element\n",
    "n_lar = []\n",
    "n_ele = int(input())\n",
    "for i in range(n):\n",
    "    print(\"Enter the element\", i+1, \": \")\n",
    "    li.append(int(input()))\n",
    "    if i != 0:\n",
    "        if li[i] > lar:\n",
    "            lar = li[i]\n",
    "        n_lar.append(lar)\n",
    "            \n",
    "            \n",
    "    elif i == 0:\n",
    "        lar = li[0]\n",
    "        n_lar.append(lar)\n",
    "        \n",
    "    \n",
    "print(\"The second largest of {} elements in the list is: {}\".format(n, n_lar[-n_ele: ]))"
   ]
  },
  {
   "cell_type": "markdown",
   "id": "0cb9e453-28c3-4436-adb5-86eccbce7976",
   "metadata": {},
   "source": [
    "# 7. Write a Python program to print even numbers in a list?"
   ]
  },
  {
   "cell_type": "code",
   "execution_count": 10,
   "id": "b13629a4-a559-4edc-b3fd-3fe045248ff3",
   "metadata": {},
   "outputs": [
    {
     "name": "stdin",
     "output_type": "stream",
     "text": [
      "Enter the count of elements: n:  3\n"
     ]
    },
    {
     "name": "stdout",
     "output_type": "stream",
     "text": [
      "Enter the element 1 : \n"
     ]
    },
    {
     "name": "stdin",
     "output_type": "stream",
     "text": [
      " 36564\n"
     ]
    },
    {
     "name": "stdout",
     "output_type": "stream",
     "text": [
      "Enter the element 2 : \n"
     ]
    },
    {
     "name": "stdin",
     "output_type": "stream",
     "text": [
      " 12325\n"
     ]
    },
    {
     "name": "stdout",
     "output_type": "stream",
     "text": [
      "Enter the element 3 : \n"
     ]
    },
    {
     "name": "stdin",
     "output_type": "stream",
     "text": [
      " 2324\n"
     ]
    },
    {
     "name": "stdout",
     "output_type": "stream",
     "text": [
      "The even numbers of 3 elements in the list are:\n",
      "36564\n",
      "2324\n"
     ]
    }
   ],
   "source": [
    "n = int(input(\"Enter the count of elements: n: \"))\n",
    "li = []\n",
    "\n",
    "for i in range(n):\n",
    "    print(\"Enter the element\", i+1, \": \")\n",
    "    li.append(int(input()))\n",
    "\n",
    "print(\"The even numbers of {} elements in the list are:\".format(n))\n",
    "for j in li:\n",
    "    if j % 2 == 0:\n",
    "        print(j)"
   ]
  },
  {
   "cell_type": "markdown",
   "id": "a94730d2-e29e-4d48-845b-f56ee4420832",
   "metadata": {},
   "source": [
    "# 8. Write a Python program to print odd numbers in a List?"
   ]
  },
  {
   "cell_type": "code",
   "execution_count": 12,
   "id": "3b2096e6-e4b3-476b-be56-93ef78473fd9",
   "metadata": {},
   "outputs": [
    {
     "name": "stdin",
     "output_type": "stream",
     "text": [
      "Enter the count of elements: n:  5\n"
     ]
    },
    {
     "name": "stdout",
     "output_type": "stream",
     "text": [
      "Enter the element 1 : \n"
     ]
    },
    {
     "name": "stdin",
     "output_type": "stream",
     "text": [
      " 2134325\n"
     ]
    },
    {
     "name": "stdout",
     "output_type": "stream",
     "text": [
      "Enter the element 2 : \n"
     ]
    },
    {
     "name": "stdin",
     "output_type": "stream",
     "text": [
      " 2131545\n"
     ]
    },
    {
     "name": "stdout",
     "output_type": "stream",
     "text": [
      "Enter the element 3 : \n"
     ]
    },
    {
     "name": "stdin",
     "output_type": "stream",
     "text": [
      " 12315425\n"
     ]
    },
    {
     "name": "stdout",
     "output_type": "stream",
     "text": [
      "Enter the element 4 : \n"
     ]
    },
    {
     "name": "stdin",
     "output_type": "stream",
     "text": [
      " 12315416\n"
     ]
    },
    {
     "name": "stdout",
     "output_type": "stream",
     "text": [
      "Enter the element 5 : \n"
     ]
    },
    {
     "name": "stdin",
     "output_type": "stream",
     "text": [
      " 123414\n"
     ]
    },
    {
     "name": "stdout",
     "output_type": "stream",
     "text": [
      "The odd numbers of 5 elements in the list are:\n",
      "2134325\n",
      "2131545\n",
      "12315425\n"
     ]
    }
   ],
   "source": [
    "n = int(input(\"Enter the count of elements: n: \"))\n",
    "li = []\n",
    "\n",
    "for i in range(n):\n",
    "    print(\"Enter the element\", i+1, \": \")\n",
    "    li.append(int(input()))\n",
    "\n",
    "print(\"The odd numbers of {} elements in the list are:\".format(n))\n",
    "for j in li:\n",
    "    if j % 2 != 0:\n",
    "        print(j)"
   ]
  },
  {
   "cell_type": "markdown",
   "id": "304cd77b-ac43-44ec-a4cf-ac0cc1369466",
   "metadata": {},
   "source": [
    "# 9. Write a Python program to Remove empty List from List?"
   ]
  },
  {
   "cell_type": "code",
   "execution_count": 13,
   "id": "0d780e50-e178-4544-bb90-650ede6f7aa1",
   "metadata": {},
   "outputs": [
    {
     "name": "stdout",
     "output_type": "stream",
     "text": [
      "The updated list after removing the emppty list is: [[1, 2, 3], ['a', 'b', 'c'], ['list', 'tuple', 'dictionary'], ['empty list']]\n"
     ]
    }
   ],
   "source": [
    "li = [[1, 2, 3], ['a', 'b', 'c'], [], ['list', 'tuple', 'dictionary'], ['empty list']]\n",
    "\n",
    "for i in li:\n",
    "    if len(i)==0:\n",
    "        li.remove(i)\n",
    "print(\"The updated list after removing the emppty list is:\", li)"
   ]
  },
  {
   "cell_type": "markdown",
   "id": "29f8c50a-71db-4406-9aa5-cd66b21cc2a1",
   "metadata": {},
   "source": [
    "# 10. Write a Python program to Cloning or Copying a list?"
   ]
  },
  {
   "cell_type": "code",
   "execution_count": 27,
   "id": "f7137644-f580-487c-bc83-cb9e70811a23",
   "metadata": {},
   "outputs": [
    {
     "name": "stdout",
     "output_type": "stream",
     "text": [
      "Cloned or Copied List is: [[1, 2, 3], ['a', 'b', 'c'], [], ['list', 'tuple', 'dictionary'], ['empty list']]\n"
     ]
    }
   ],
   "source": [
    "li = [[1, 2, 3], ['a', 'b', 'c'], [], ['list', 'tuple', 'dictionary'], ['empty list']]\n",
    "\n",
    "new_li = li\n",
    "print(\"Cloned or Copied List is:\", new_li)"
   ]
  },
  {
   "cell_type": "markdown",
   "id": "a567a5f1-8632-46dc-a15e-7ffdd742b632",
   "metadata": {},
   "source": [
    "# 11. Write a Python program to Count occurrences of an element in a list?"
   ]
  },
  {
   "cell_type": "code",
   "execution_count": 29,
   "id": "97aa3a7e-34c8-457d-aaaa-ffaa886007ad",
   "metadata": {},
   "outputs": [
    {
     "name": "stdin",
     "output_type": "stream",
     "text": [
      "Enter the element to find the occurences in the list:  3\n"
     ]
    },
    {
     "name": "stdout",
     "output_type": "stream",
     "text": [
      "The occurences of 3 in the list is 2 times\n"
     ]
    }
   ],
   "source": [
    "li = [1, 2, 3, 4, 5, 6, 7, 8, 9, 10, 5, 2, 1, 6, 3]\n",
    "count = 0\n",
    "n = int(input(\"Enter the element to find the occurences in the list: \"))\n",
    "for i in range(len(li)):\n",
    "    if n == li[i]:\n",
    "        count+=1\n",
    "print(\"The occurences of {} in the list is {} times\".format(n, count))"
   ]
  }
 ],
 "metadata": {
  "kernelspec": {
   "display_name": "Python 3 (ipykernel)",
   "language": "python",
   "name": "python3"
  },
  "language_info": {
   "codemirror_mode": {
    "name": "ipython",
    "version": 3
   },
   "file_extension": ".py",
   "mimetype": "text/x-python",
   "name": "python",
   "nbconvert_exporter": "python",
   "pygments_lexer": "ipython3",
   "version": "3.10.6"
  }
 },
 "nbformat": 4,
 "nbformat_minor": 5
}
