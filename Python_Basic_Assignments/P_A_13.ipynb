{
 "cells": [
  {
   "cell_type": "markdown",
   "id": "9407f3ec-1530-49ae-9fe0-4d9362c53533",
   "metadata": {},
   "source": [
    "## Question 1: \n",
    "\n",
    "Write a program that calculates and prints the value according to the given formula: \n",
    "\n",
    "Q = Square root of [(2 * C * D)/H] \n",
    "\n",
    "Following are the fixed values of C and H: C is 50. H is 30. D is the variable whose values should be input to your program in a comma-separated sequence. \n",
    "\n",
    "Example Let us assume the following comma separated input sequence is given to the program: 100,150,180 The output of the program should be: 18,22,24"
   ]
  },
  {
   "cell_type": "code",
   "execution_count": 2,
   "id": "5fb53cee-210f-4a97-badc-c2d8bd8c5c8d",
   "metadata": {},
   "outputs": [
    {
     "name": "stdin",
     "output_type": "stream",
     "text": [
      "Enter multiple values:  100,150,180\n"
     ]
    },
    {
     "name": "stdout",
     "output_type": "stream",
     "text": [
      "18,22,24\n"
     ]
    }
   ],
   "source": [
    "C = 50\n",
    "H = 30\n",
    "Q = []\n",
    "for D in input(\"Enter multiple values: \").split(','):\n",
    "    Q.append(int((2 * C * int(D)/H)**0.5))\n",
    "#print(','.join(map(str, Q)))    Alternate way of printing with ',' seperator\n",
    "print(*Q, sep = ',')"
   ]
  },
  {
   "cell_type": "markdown",
   "id": "cbcd18ae-2627-4b84-9df9-26a903807198",
   "metadata": {},
   "source": [
    "## Question 2:                                                                        \n",
    "Write a program which takes 2 digits, X,Y as input and generates a 2-dimensional array.             \n",
    "The element value in the i-th row and j-th column of the array should be i*j. Note: i=0,1.., X-1; j=0,1,¡Y-1. Example Suppose the following inputs are given to the program: 3,5 Then, the output of the program should be: \n",
    "\n",
    "[[0, 0, 0, 0, 0], [0, 1, 2, 3, 4], [0, 2, 4, 6, 8]]"
   ]
  },
  {
   "cell_type": "code",
   "execution_count": 17,
   "id": "b50e1743-9a09-4149-931d-e119d96ac5c9",
   "metadata": {},
   "outputs": [
    {
     "name": "stdout",
     "output_type": "stream",
     "text": [
      "[[0, 0, 0, 0, 0], [0, 1, 2, 3, 4], [0, 2, 4, 6, 8]]\n"
     ]
    }
   ],
   "source": [
    "i = 3\n",
    "j = 5\n",
    "li = []\n",
    "for a in range(i):\n",
    "    app = []\n",
    "    for b in range(j):\n",
    "        app.append(a*b)\n",
    "    li.append(app)\n",
    "print(li)"
   ]
  },
  {
   "cell_type": "markdown",
   "id": "4b5171f6-da95-4189-8b1d-ddb8fe7f0a2d",
   "metadata": {},
   "source": [
    "## Question 3: \n",
    "\n",
    "Write a program that accepts a comma separated sequence of words as input and prints the words in a comma-separated sequence after sorting them alphabetically. Suppose the following input is supplied to the program:\n",
    "\n",
    "without,hello,bag,world \n",
    "\n",
    "Then, the output should be: \n",
    "\n",
    "bag,hello,without,world"
   ]
  },
  {
   "cell_type": "code",
   "execution_count": 3,
   "id": "d174d847-07ec-4916-839b-a0c704a5551f",
   "metadata": {},
   "outputs": [
    {
     "name": "stdin",
     "output_type": "stream",
     "text": [
      "Enter multiple values: without,hello,bag,world\n"
     ]
    },
    {
     "name": "stdout",
     "output_type": "stream",
     "text": [
      "bag hello without world\n"
     ]
    }
   ],
   "source": [
    "input_words = input(\"Enter multiple values:\").split(',')\n",
    "input_words.sort()\n",
    "print(' '.join(input_words))"
   ]
  },
  {
   "cell_type": "markdown",
   "id": "cbc79174-ee40-4235-bedb-ef0925cc92f2",
   "metadata": {},
   "source": [
    "## Question 4: \n",
    "\n",
    "Write a program that accepts a sequence of whitespace separated words as input and prints the words after removing all duplicate words and sorting them alphanumerically. Suppose the following input is supplied to the program: hello world and practice makes perfect and hello world again Then, the output should be: again and hello makes perfect practice world"
   ]
  },
  {
   "cell_type": "code",
   "execution_count": 8,
   "id": "8cd83785-2597-45b2-ae32-50b0455a3a0b",
   "metadata": {},
   "outputs": [
    {
     "name": "stdin",
     "output_type": "stream",
     "text": [
      "Enter multiple values:  hello world and practice makes perfect and hello world again\n"
     ]
    },
    {
     "name": "stdout",
     "output_type": "stream",
     "text": [
      "again and hello makes perfect practice world\n"
     ]
    }
   ],
   "source": [
    "li = []\n",
    "for i in input(\"Enter multiple values: \").split():\n",
    "    if i not in li:\n",
    "        li.append(i)\n",
    "li.sort()\n",
    "print(*li, sep = ' ')"
   ]
  },
  {
   "cell_type": "markdown",
   "id": "f52edc1a-9073-4f6f-8522-ae655a2179c4",
   "metadata": {},
   "source": [
    "## Question 5:                                                                                                       \n",
    "Write a program that accepts a sentence and calculate the number of letters and digits. Suppose the following input is supplied to the program: hello world! 123 Then, the output should be: LETTERS 10 DIGITS 3"
   ]
  },
  {
   "cell_type": "code",
   "execution_count": 18,
   "id": "2664b8da-d9b6-483b-b328-21ac09b6d9e8",
   "metadata": {},
   "outputs": [
    {
     "name": "stdin",
     "output_type": "stream",
     "text": [
      "Enter your text: hello world! 123\n"
     ]
    },
    {
     "name": "stdout",
     "output_type": "stream",
     "text": [
      "LETTERS 10 DIGITS 3\n"
     ]
    }
   ],
   "source": [
    "LETTERS, DIGITS = 0, 0\n",
    "for i in input(\"Enter your text:\"):\n",
    "    if i.isalpha():\n",
    "        LETTERS+=1\n",
    "    elif i.isdigit():\n",
    "        DIGITS+=1\n",
    "print(\"LETTERS\", LETTERS, \"DIGITS\", DIGITS)"
   ]
  },
  {
   "cell_type": "markdown",
   "id": "56d4299e-505d-4c8e-be93-b2f100fbd8c7",
   "metadata": {},
   "source": [
    "## Question 6: \n",
    "\n",
    "A website requires the users to input username and password to register. Write a program to check the validity of password input by users. Following are the criteria for checking the password:\n",
    "\n",
    "At least 1 letter between [a-z]\n",
    "At least 1 number between [0-9]\n",
    "At least 1 letter between [A-Z]\n",
    "At least 1 character from [$#@]\n",
    "Minimum length of transaction password: 6\n",
    "Maximum length of transaction password: 12 Your program should accept a sequence of comma separated passwords and will check them according to the above criteria. Passwords that match the criteria are to be printed, each separated by a comma. Example If the following passwords are given as input to the program: ABd1234@1,a F1#,2w3E*,2We3345 Then, the output of the program should be: ABd1234@1"
   ]
  },
  {
   "cell_type": "code",
   "execution_count": 23,
   "id": "c6edeb94-8df3-4081-9756-4883a8518de7",
   "metadata": {},
   "outputs": [
    {
     "name": "stdin",
     "output_type": "stream",
     "text": [
      "Enter multiple values:  ABd1234@1,a F1#,2w3E*,2We3345\n"
     ]
    },
    {
     "name": "stdout",
     "output_type": "stream",
     "text": [
      "ABd1234@1\n"
     ]
    }
   ],
   "source": [
    "import re\n",
    "for i in input(\"Enter multiple values: \").split(','):\n",
    "    if re.findall('[a-z]', i) and re.findall('[A-Z]', i) and re.findall('\\d', i) \\\n",
    "    and re.findall('[$#@]', i) and len(i)>5 and len(i)<13:\n",
    "        print(i)"
   ]
  },
  {
   "cell_type": "code",
   "execution_count": null,
   "id": "3dbd8bff-51b9-4be3-83b5-ccf3309e28bb",
   "metadata": {},
   "outputs": [],
   "source": []
  }
 ],
 "metadata": {
  "kernelspec": {
   "display_name": "Python 3 (ipykernel)",
   "language": "python",
   "name": "python3"
  },
  "language_info": {
   "codemirror_mode": {
    "name": "ipython",
    "version": 3
   },
   "file_extension": ".py",
   "mimetype": "text/x-python",
   "name": "python",
   "nbconvert_exporter": "python",
   "pygments_lexer": "ipython3",
   "version": "3.10.6"
  }
 },
 "nbformat": 4,
 "nbformat_minor": 5
}
