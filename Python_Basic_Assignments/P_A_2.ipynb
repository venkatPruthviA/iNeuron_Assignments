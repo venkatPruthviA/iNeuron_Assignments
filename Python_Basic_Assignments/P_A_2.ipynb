{
 "cells": [
  {
   "cell_type": "markdown",
   "id": "a5579919-dfe4-47a7-8899-8eaee45e1683",
   "metadata": {},
   "source": [
    "## Write a Python program to convert kilometers to miles?"
   ]
  },
  {
   "cell_type": "code",
   "execution_count": 5,
   "id": "95828685-cf3f-477f-a174-1ee84d6c4d8e",
   "metadata": {},
   "outputs": [
    {
     "name": "stdin",
     "output_type": "stream",
     "text": [
      "Enter the kilometers:  1234\n"
     ]
    },
    {
     "name": "stdout",
     "output_type": "stream",
     "text": [
      "The distane of 1234.0 kilometers in miles is 766.77\n"
     ]
    }
   ],
   "source": [
    "kms = float(input(\"Enter the kilometers: \"))\n",
    "\n",
    "miles = round(kms * 0.62137, 2)\n",
    "\n",
    "print(\"The distane of {} kilometers in miles is {}\".format(kms, miles))"
   ]
  },
  {
   "cell_type": "markdown",
   "id": "cb8848a8-d626-4403-9a8b-eeadae077faf",
   "metadata": {},
   "source": [
    "## 2. Write a Python program to convert Celsius to Fahrenheit?"
   ]
  },
  {
   "cell_type": "code",
   "execution_count": 7,
   "id": "ddb2cc39-28cd-459e-90b6-41e2dd49573b",
   "metadata": {},
   "outputs": [
    {
     "name": "stdin",
     "output_type": "stream",
     "text": [
      "Enter the celsius:  24\n"
     ]
    },
    {
     "name": "stdout",
     "output_type": "stream",
     "text": [
      "The temperature in celsius is 24.0 and in farenheit is 75.2\n"
     ]
    }
   ],
   "source": [
    "celsius = float(input(\"Enter the celsius: \"))\n",
    "\n",
    "f_heit = (celsius * 1.8) + 32\n",
    "\n",
    "print(\"The temperature in celsius is {} and in farenheit is {}\".format(celsius, f_heit))"
   ]
  },
  {
   "cell_type": "markdown",
   "id": "333599ee-cb83-4c85-a53f-f0b5cf030743",
   "metadata": {},
   "source": [
    "## 3. Write a Python program to display calendar?"
   ]
  },
  {
   "cell_type": "code",
   "execution_count": 10,
   "id": "c9545596-1ce4-4373-99fa-7a4453add9e7",
   "metadata": {},
   "outputs": [
    {
     "name": "stdin",
     "output_type": "stream",
     "text": [
      "Enter the required month:  11\n",
      "Enter the required year:  2022\n"
     ]
    },
    {
     "name": "stdout",
     "output_type": "stream",
     "text": [
      "Displaying 11 Month in 2022 Year: \n",
      "   November 2022\n",
      "Mo Tu We Th Fr Sa Su\n",
      "    1  2  3  4  5  6\n",
      " 7  8  9 10 11 12 13\n",
      "14 15 16 17 18 19 20\n",
      "21 22 23 24 25 26 27\n",
      "28 29 30\n",
      "\n"
     ]
    }
   ],
   "source": [
    "import calendar\n",
    "\n",
    "month = int(input(\"Enter the required month: \"))\n",
    "year = int(input(\"Enter the required year: \"))\n",
    "                 \n",
    "print(\"Displaying {} Month in {} Year: \".format(month, year))\n",
    "print(calendar.month(year, month))"
   ]
  },
  {
   "cell_type": "markdown",
   "id": "d5a8276f-ecd2-47f5-9941-df82a3e0503e",
   "metadata": {},
   "source": [
    "## 4. Write a Python program to solve quadratic equation?"
   ]
  },
  {
   "cell_type": "code",
   "execution_count": 29,
   "id": "28794ba0-05f5-48c0-ac25-94cb86d56d56",
   "metadata": {},
   "outputs": [
    {
     "name": "stdin",
     "output_type": "stream",
     "text": [
      "Enter the value of x2 coefficient:  1\n",
      "Enter the value of x coefficient:  -7\n",
      "Enter the value of constant:  12\n"
     ]
    },
    {
     "name": "stdout",
     "output_type": "stream",
     "text": [
      "******************************\n",
      "Real and Different Roots\n",
      "3.0\n",
      "4.0\n"
     ]
    }
   ],
   "source": [
    "import math\n",
    "\n",
    "a = int(input(\"Enter the value of x2 coefficient: \"))\n",
    "b = int(input(\"Enter the value of x coefficient: \"))\n",
    "c = int(input(\"Enter the value of constant: \"))\n",
    "print('*' * 30)\n",
    "\n",
    "if a == 0:\n",
    "    print(\"Invalid Quadratic Equation\")\n",
    "else:\n",
    "    d = round(math.sqrt(abs(b * b - (4 * a * c))), 3)\n",
    "    if b**2 > 4 * a * c:\n",
    "        print(\"Real and Different Roots\")\n",
    "        print((-b-d)/(2*a))\n",
    "        print((-b+d)/(2*a))\n",
    "    elif d == 0:\n",
    "        print(\"Real and Same Roots\")\n",
    "        print(-b/(2*a))\n",
    "    else:\n",
    "        print(\"Complex Roots\")\n",
    "        print(-b/(2*a), \"+i\", d)\n",
    "        print(-b/(2*a), \"-i\", d)"
   ]
  },
  {
   "cell_type": "markdown",
   "id": "a42de3a0-0d29-44ae-a9f6-d86fbd8b911d",
   "metadata": {},
   "source": [
    "## 5. Write a Python program to swap two variables without temp variable?"
   ]
  },
  {
   "cell_type": "code",
   "execution_count": 30,
   "id": "f2114be8-1be5-4860-b8c7-ccaa17ce4eb0",
   "metadata": {},
   "outputs": [
    {
     "name": "stdin",
     "output_type": "stream",
     "text": [
      "Enter the first number 2\n",
      "Enter the second number 3\n"
     ]
    },
    {
     "name": "stdout",
     "output_type": "stream",
     "text": [
      "Before swapping, a = 2 b = 3\n",
      "After swapping, a = 3 b = 2\n"
     ]
    }
   ],
   "source": [
    "a = int(input(\"Enter the first number\"))\n",
    "b = int(input(\"Enter the second number\"))\n",
    "\n",
    "print(\"Before swapping, a =\", a, \"b =\", b)\n",
    "\n",
    "a, b = b, a\n",
    "\n",
    "print(\"After swapping, a =\", a, \"b =\", b)"
   ]
  }
 ],
 "metadata": {
  "kernelspec": {
   "display_name": "Python 3 (ipykernel)",
   "language": "python",
   "name": "python3"
  },
  "language_info": {
   "codemirror_mode": {
    "name": "ipython",
    "version": 3
   },
   "file_extension": ".py",
   "mimetype": "text/x-python",
   "name": "python",
   "nbconvert_exporter": "python",
   "pygments_lexer": "ipython3",
   "version": "3.10.6"
  }
 },
 "nbformat": 4,
 "nbformat_minor": 5
}
